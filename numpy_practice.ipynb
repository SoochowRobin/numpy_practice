{
 "cells": [
  {
   "cell_type": "markdown",
   "id": "c85a8576",
   "metadata": {},
   "source": [
    "### Numpy Practice(basic operation)"
   ]
  },
  {
   "cell_type": "code",
   "execution_count": 2,
   "id": "b984b2a1",
   "metadata": {},
   "outputs": [],
   "source": [
    "import numpy as np"
   ]
  },
  {
   "cell_type": "markdown",
   "id": "12e5f339",
   "metadata": {},
   "source": [
    "How to show numpy <b><i>version</i></b> and <b><i>configuration</i></b>?"
   ]
  },
  {
   "cell_type": "code",
   "execution_count": 3,
   "id": "e0538c98",
   "metadata": {},
   "outputs": [
    {
     "data": {
      "text/plain": [
       "'1.21.2'"
      ]
     },
     "execution_count": 3,
     "metadata": {},
     "output_type": "execute_result"
    }
   ],
   "source": [
    "np.__version__\n",
    "np.show_config()"
   ]
  },
  {
   "cell_type": "markdown",
   "id": "936d9f99",
   "metadata": {},
   "source": [
    "#### 1. create a null vector of size 10"
   ]
  },
  {
   "cell_type": "code",
   "execution_count": 6,
   "id": "acea5536",
   "metadata": {},
   "outputs": [
    {
     "name": "stdout",
     "output_type": "stream",
     "text": [
      "[0. 0. 0. 0. 0. 0. 0. 0. 0. 0.]\n"
     ]
    }
   ],
   "source": [
    "vector = np.zeros(10)\n",
    "print(vector)"
   ]
  },
  {
   "cell_type": "markdown",
   "id": "e3106e06",
   "metadata": {},
   "source": [
    "#### 2. how to find the memory size of any array?"
   ]
  },
  {
   "cell_type": "code",
   "execution_count": 7,
   "id": "dc4c20d7",
   "metadata": {},
   "outputs": [
    {
     "name": "stdout",
     "output_type": "stream",
     "text": [
      "[[0. 0. 0. 0. 0. 0. 0. 0. 0. 0.]\n",
      " [0. 0. 0. 0. 0. 0. 0. 0. 0. 0.]\n",
      " [0. 0. 0. 0. 0. 0. 0. 0. 0. 0.]\n",
      " [0. 0. 0. 0. 0. 0. 0. 0. 0. 0.]\n",
      " [0. 0. 0. 0. 0. 0. 0. 0. 0. 0.]\n",
      " [0. 0. 0. 0. 0. 0. 0. 0. 0. 0.]\n",
      " [0. 0. 0. 0. 0. 0. 0. 0. 0. 0.]\n",
      " [0. 0. 0. 0. 0. 0. 0. 0. 0. 0.]\n",
      " [0. 0. 0. 0. 0. 0. 0. 0. 0. 0.]\n",
      " [0. 0. 0. 0. 0. 0. 0. 0. 0. 0.]]\n"
     ]
    }
   ],
   "source": [
    "matrix = np.zeros((10, 10))\n",
    "print(matrix)"
   ]
  },
  {
   "cell_type": "code",
   "execution_count": 8,
   "id": "4bc07f8c",
   "metadata": {},
   "outputs": [
    {
     "name": "stdout",
     "output_type": "stream",
     "text": [
      "800\n"
     ]
    }
   ],
   "source": [
    "print(f'{matrix.size*matrix.itemsize}')"
   ]
  },
  {
   "cell_type": "code",
   "execution_count": 9,
   "id": "e5b73e0d",
   "metadata": {},
   "outputs": [
    {
     "data": {
      "text/plain": [
       "100"
      ]
     },
     "execution_count": 9,
     "metadata": {},
     "output_type": "execute_result"
    }
   ],
   "source": [
    "matrix.size  # in numpy shape != size"
   ]
  },
  {
   "cell_type": "markdown",
   "id": "2f8227f1",
   "metadata": {},
   "source": [
    "#### 3. create a null vector of size 10 but the fifth value which is 1"
   ]
  },
  {
   "cell_type": "code",
   "execution_count": 10,
   "id": "770cbbca",
   "metadata": {},
   "outputs": [
    {
     "data": {
      "text/plain": [
       "array([0., 0., 0., 0., 1., 0., 0., 0., 0., 0.])"
      ]
     },
     "execution_count": 10,
     "metadata": {},
     "output_type": "execute_result"
    }
   ],
   "source": [
    "z = np.zeros(10)\n",
    "z[4] = 1  # indexing like operation in python\n",
    "z"
   ]
  },
  {
   "cell_type": "markdown",
   "id": "37194542",
   "metadata": {},
   "source": [
    "#### 4. create a vector with values ranging from 10 to 49"
   ]
  },
  {
   "cell_type": "code",
   "execution_count": 12,
   "id": "90ca5021",
   "metadata": {},
   "outputs": [
    {
     "data": {
      "text/plain": [
       "array([10, 11, 12, 13, 14, 15, 16, 17, 18, 19, 20, 21, 22, 23, 24, 25, 26,\n",
       "       27, 28, 29, 30, 31, 32, 33, 34, 35, 36, 37, 38, 39, 40, 41, 42, 43,\n",
       "       44, 45, 46, 47, 48, 49])"
      ]
     },
     "execution_count": 12,
     "metadata": {},
     "output_type": "execute_result"
    }
   ],
   "source": [
    "z = np.arange(10,50)\n",
    "z"
   ]
  },
  {
   "cell_type": "markdown",
   "id": "5fae7cbf",
   "metadata": {},
   "source": [
    "#### 5. how to reverse the array [ : :-1]"
   ]
  },
  {
   "cell_type": "code",
   "execution_count": 17,
   "id": "3e1d9cdf",
   "metadata": {},
   "outputs": [
    {
     "data": {
      "text/plain": [
       "array([49, 48, 47, 46, 45, 44, 43, 42, 41, 40, 39, 38, 37, 36, 35, 34, 33,\n",
       "       32, 31, 30, 29, 28, 27, 26, 25, 24, 23, 22, 21, 20, 19, 18, 17, 16,\n",
       "       15, 14, 13, 12, 11, 10])"
      ]
     },
     "execution_count": 17,
     "metadata": {},
     "output_type": "execute_result"
    }
   ],
   "source": [
    "z = z[::-1]\n",
    "z"
   ]
  },
  {
   "cell_type": "markdown",
   "id": "ff3c1343",
   "metadata": {},
   "source": [
    "#### 6. create a 3*3 matrix with value range from 0 to 8"
   ]
  },
  {
   "cell_type": "code",
   "execution_count": 18,
   "id": "718053b0",
   "metadata": {},
   "outputs": [
    {
     "data": {
      "text/plain": [
       "array([[0, 1, 2],\n",
       "       [3, 4, 5],\n",
       "       [6, 7, 8]])"
      ]
     },
     "execution_count": 18,
     "metadata": {},
     "output_type": "execute_result"
    }
   ],
   "source": [
    "matrix = np.arange(9).reshape(3, 3)\n",
    "matrix"
   ]
  },
  {
   "cell_type": "markdown",
   "id": "df2c50a5",
   "metadata": {},
   "source": [
    "#### 7. how to find non-zero elements from [1, 2, 0, 0, 0, 4, 0]"
   ]
  },
  {
   "cell_type": "code",
   "execution_count": 20,
   "id": "662a0606",
   "metadata": {},
   "outputs": [
    {
     "data": {
      "text/plain": [
       "(array([0, 1, 2, 5]),)"
      ]
     },
     "execution_count": 20,
     "metadata": {},
     "output_type": "execute_result"
    }
   ],
   "source": [
    "# the result will return index of the elements in vector\n",
    "nz = np.nonzero([1, 2, 4, 0, 0, 4, 0])\n",
    "nz "
   ]
  },
  {
   "cell_type": "markdown",
   "id": "e3ec1fdd",
   "metadata": {},
   "source": [
    "#### 8. how to create indentity matrix? "
   ]
  },
  {
   "cell_type": "code",
   "execution_count": 22,
   "id": "fe3aec06",
   "metadata": {},
   "outputs": [
    {
     "data": {
      "text/plain": [
       "array([[1., 0., 0.],\n",
       "       [0., 1., 0.],\n",
       "       [0., 0., 1.]])"
      ]
     },
     "execution_count": 22,
     "metadata": {},
     "output_type": "execute_result"
    }
   ],
   "source": [
    "z = np.eye(3)\n",
    "z"
   ]
  },
  {
   "cell_type": "markdown",
   "id": "09b19d7b",
   "metadata": {},
   "source": [
    "#### 9. how to create a 3*3*3 matrix with random values, np.random.random()"
   ]
  },
  {
   "cell_type": "code",
   "execution_count": 25,
   "id": "9ad4133e",
   "metadata": {},
   "outputs": [
    {
     "data": {
      "text/plain": [
       "array([[[0.41499312, 0.5220125 , 0.18114917],\n",
       "        [0.99245934, 0.30656982, 0.29646122],\n",
       "        [0.53494359, 0.86974671, 0.89575307]],\n",
       "\n",
       "       [[0.71063097, 0.73803335, 0.78325161],\n",
       "        [0.67706664, 0.3143693 , 0.1577873 ],\n",
       "        [0.01369556, 0.35894694, 0.8890076 ]],\n",
       "\n",
       "       [[0.90344072, 0.32580495, 0.8713894 ],\n",
       "        [0.23539688, 0.62048341, 0.15930957],\n",
       "        [0.10272704, 0.20034875, 0.62444197]]])"
      ]
     },
     "execution_count": 25,
     "metadata": {},
     "output_type": "execute_result"
    }
   ],
   "source": [
    "matrix = np.random.random((3, 3, 3))\n",
    "matrix"
   ]
  },
  {
   "cell_type": "markdown",
   "id": "e2ae6749",
   "metadata": {},
   "source": [
    "#### 10. how to find the max, min value in the matrix"
   ]
  },
  {
   "cell_type": "code",
   "execution_count": 27,
   "id": "a8f48b66",
   "metadata": {},
   "outputs": [
    {
     "name": "stdout",
     "output_type": "stream",
     "text": [
      "0.9924593426174486 0.013695555616247912\n"
     ]
    }
   ],
   "source": [
    "matrix_max, matrix_min = matrix.max(), matrix.min()\n",
    "print(matrix_max, matrix_min)"
   ]
  },
  {
   "cell_type": "markdown",
   "id": "dfc9f980",
   "metadata": {},
   "source": [
    "#### 11. calculate the mean value of the vector"
   ]
  },
  {
   "cell_type": "code",
   "execution_count": 28,
   "id": "a4d35be9",
   "metadata": {},
   "outputs": [
    {
     "name": "stdout",
     "output_type": "stream",
     "text": [
      "[[0.64151712 0.38481724 0.23107413 0.62979558 0.33818273 0.69388879\n",
      "  0.50684822 0.09509645 0.43712579 0.56169571]]\n",
      "0.4520041778586199\n"
     ]
    }
   ],
   "source": [
    "vector = np.random.random((1, 10))\n",
    "print(vector)\n",
    "print(vector.mean())"
   ]
  },
  {
   "cell_type": "markdown",
   "id": "d358066c",
   "metadata": {},
   "source": [
    "#### 12. how to add a border(filled with 0) around an existing array"
   ]
  },
  {
   "cell_type": "code",
   "execution_count": 30,
   "id": "1881ce48",
   "metadata": {},
   "outputs": [
    {
     "name": "stdout",
     "output_type": "stream",
     "text": [
      "[[1. 1. 1. 1. 1.]\n",
      " [1. 1. 1. 1. 1.]\n",
      " [1. 1. 1. 1. 1.]\n",
      " [1. 1. 1. 1. 1.]\n",
      " [1. 1. 1. 1. 1.]]\n",
      "[[0. 0. 0. 0. 0. 0. 0.]\n",
      " [0. 1. 1. 1. 1. 1. 0.]\n",
      " [0. 1. 1. 1. 1. 1. 0.]\n",
      " [0. 1. 1. 1. 1. 1. 0.]\n",
      " [0. 1. 1. 1. 1. 1. 0.]\n",
      " [0. 1. 1. 1. 1. 1. 0.]\n",
      " [0. 0. 0. 0. 0. 0. 0.]]\n"
     ]
    }
   ],
   "source": [
    "z = np.ones((5, 5))\n",
    "print(z)\n",
    "z = np.pad(z, pad_width=1, mode='constant', constant_values=0) # use pad method\n",
    "print(z)"
   ]
  },
  {
   "cell_type": "markdown",
   "id": "28a55d0c",
   "metadata": {},
   "source": [
    "#### 13. what is the result of the following expression"
   ]
  },
  {
   "cell_type": "code",
   "execution_count": 36,
   "id": "c695f1d1",
   "metadata": {},
   "outputs": [
    {
     "name": "stdout",
     "output_type": "stream",
     "text": [
      "nan\n",
      "nan\n",
      "False\n",
      "nan\n",
      "True\n",
      "False\n"
     ]
    }
   ],
   "source": [
    "print(0*np.nan)\n",
    "print(np.nan*np.nan)\n",
    "print(np.inf > np.nan)\n",
    "print(np.nan - np.nan)\n",
    "print(np.nan in set([np.nan]))\n",
    "print(0.3 == 3*0.1)"
   ]
  },
  {
   "cell_type": "markdown",
   "id": "b60501f9",
   "metadata": {},
   "source": [
    "#### 14. create 5*5 matrix with values 1, 2, 3, 4 just below the diagnol"
   ]
  },
  {
   "cell_type": "code",
   "execution_count": 40,
   "id": "986292e8",
   "metadata": {},
   "outputs": [
    {
     "name": "stdout",
     "output_type": "stream",
     "text": [
      "[[0 0 0 0 0]\n",
      " [1 0 0 0 0]\n",
      " [0 2 0 0 0]\n",
      " [0 0 3 0 0]\n",
      " [0 0 0 4 0]]\n"
     ]
    }
   ],
   "source": [
    "z = np.diag(1+np.arange(4), k=-1)\n",
    "print(z)"
   ]
  },
  {
   "cell_type": "markdown",
   "id": "d140ea99",
   "metadata": {},
   "source": [
    "#### 15. how to normalize a 5*5 random matrix"
   ]
  },
  {
   "cell_type": "code",
   "execution_count": 45,
   "id": "afe6e19d",
   "metadata": {},
   "outputs": [
    {
     "name": "stdout",
     "output_type": "stream",
     "text": [
      "[[0.72172877 0.11426814 0.94420626 0.83833375 0.23666329]\n",
      " [0.66914221 0.38727548 0.04448971 0.92106289 0.26150744]\n",
      " [0.29901011 0.38352573 0.15576189 0.70765583 0.5476919 ]\n",
      " [0.89329794 0.42957551 0.17205584 0.20949215 0.48857645]\n",
      " [0.72541707 0.65964175 0.53836729 0.92543309 0.74819899]]\n",
      "0.5208951794600309\n",
      "0.5208951794600309\n",
      "[[ 0.72074789 -1.45929558  1.51917095  1.13921765 -1.02004615]\n",
      " [ 0.53202621 -0.47953191 -1.70971511  1.43611447 -0.93088593]\n",
      " [-0.79629704 -0.49298894 -1.31038359  0.67024316  0.09616757]\n",
      " [ 1.33647214 -0.32772633 -1.25190817 -1.11755741 -0.11598485]\n",
      " [ 0.73398437  0.49793112  0.06270359  1.45179816  0.81574371]]\n",
      "[[ 0.72074789 -1.45929558  1.51917095  1.13921765 -1.02004615]\n",
      " [ 0.53202621 -0.47953191 -1.70971511  1.43611447 -0.93088593]\n",
      " [-0.79629704 -0.49298894 -1.31038359  0.67024316  0.09616757]\n",
      " [ 1.33647214 -0.32772633 -1.25190817 -1.11755741 -0.11598485]\n",
      " [ 0.73398437  0.49793112  0.06270359  1.45179816  0.81574371]]\n"
     ]
    }
   ],
   "source": [
    "z = np.random.random((5, 5))\n",
    "print(z)\n",
    "print(np.mean(z))\n",
    "print(z.mean()) # np.mean(m) = m.mean()\n",
    "z = (z - z.mean())/(z.std())\n",
    "Z = (z - np.mean (z)) / (np.std (z))\n",
    "print(z)\n",
    "print(Z)"
   ]
  },
  {
   "cell_type": "markdown",
   "id": "8a1d3559",
   "metadata": {},
   "source": [
    "#### 16. how to multiply 5*3 matrix by a 3*2 matrix(real matrix product)"
   ]
  },
  {
   "cell_type": "code",
   "execution_count": 46,
   "id": "eba70c69",
   "metadata": {},
   "outputs": [
    {
     "name": "stdout",
     "output_type": "stream",
     "text": [
      "[[3. 3.]\n",
      " [3. 3.]\n",
      " [3. 3.]\n",
      " [3. 3.]\n",
      " [3. 3.]]\n"
     ]
    }
   ],
   "source": [
    "z = np.dot(np.ones((5, 3)), np.ones((3, 2)))\n",
    "print(z)"
   ]
  },
  {
   "cell_type": "markdown",
   "id": "2cb15e17",
   "metadata": {},
   "source": [
    "#### 17. how to convert a float(32 bits) array into an integer (32bits) in place?"
   ]
  },
  {
   "cell_type": "code",
   "execution_count": 47,
   "id": "7e523a19",
   "metadata": {},
   "outputs": [
    {
     "data": {
      "text/plain": [
       "array([0., 1., 2., 3., 4., 5., 6., 7., 8., 9.], dtype=float32)"
      ]
     },
     "execution_count": 47,
     "metadata": {},
     "output_type": "execute_result"
    }
   ],
   "source": [
    "z = np.arange(10, dtype=np.float32)\n",
    "z"
   ]
  },
  {
   "cell_type": "code",
   "execution_count": 48,
   "id": "840b0ea4",
   "metadata": {},
   "outputs": [
    {
     "data": {
      "text/plain": [
       "array([0, 1, 2, 3, 4, 5, 6, 7, 8, 9], dtype=int32)"
      ]
     },
     "execution_count": 48,
     "metadata": {},
     "output_type": "execute_result"
    }
   ],
   "source": [
    "z = z.astype(np.int32, copy=False)\n",
    "z"
   ]
  },
  {
   "cell_type": "markdown",
   "id": "b26cf736",
   "metadata": {},
   "source": [
    "#### 18. how to substract the mean of each row of a matrix?\n"
   ]
  },
  {
   "cell_type": "code",
   "execution_count": 52,
   "id": "6cd4dae6",
   "metadata": {},
   "outputs": [
    {
     "name": "stdout",
     "output_type": "stream",
     "text": [
      "[[ 0.09282566  0.43270403 -0.41988072  0.00135532 -0.26029707  0.43597539\n",
      "  -0.26641621 -0.15806081 -0.32327851  0.46507291]\n",
      " [ 0.21233217 -0.42637361  0.19279923  0.01761732  0.15637257 -0.39175031\n",
      "   0.17545321 -0.05727942  0.33978558 -0.21895675]\n",
      " [-0.13985007 -0.01013031 -0.38653358 -0.07052227  0.19989556 -0.05166072\n",
      "  -0.05410807  0.17349746  0.40951314 -0.07010115]\n",
      " [ 0.25492601 -0.2511949   0.14909361  0.52359656  0.3954488  -0.32554481\n",
      "  -0.39492572 -0.27240278 -0.14343996  0.06444319]\n",
      " [ 0.31901021 -0.52003354 -0.50346572 -0.45939038  0.37029971 -0.08093508\n",
      "   0.19863078 -0.07167328  0.2820408   0.4655165 ]]\n"
     ]
    }
   ],
   "source": [
    "x = np.random.rand(5, 10)\n",
    "y = x - x.mean(axis=1, keepdims=True)\n",
    "print(y)"
   ]
  },
  {
   "cell_type": "code",
   "execution_count": 53,
   "id": "c3e9c0de",
   "metadata": {},
   "outputs": [
    {
     "name": "stdout",
     "output_type": "stream",
     "text": [
      "[[[1. 1.]\n",
      "  [1. 1.]\n",
      "  [1. 1.]]\n",
      "\n",
      " [[1. 1.]\n",
      "  [1. 1.]\n",
      "  [1. 1.]]\n",
      "\n",
      " [[1. 1.]\n",
      "  [1. 1.]\n",
      "  [1. 1.]]\n",
      "\n",
      " [[1. 1.]\n",
      "  [1. 1.]\n",
      "  [1. 1.]]]\n"
     ]
    }
   ],
   "source": [
    "b = np.ones((4, 3, 2))\n",
    "print(b)"
   ]
  },
  {
   "cell_type": "code",
   "execution_count": 57,
   "id": "8341d562",
   "metadata": {},
   "outputs": [],
   "source": [
    "a = np.array([[ 1,  2,  3,  4,  5],\n",
    "       [ 6,  7,  8,  9, 10]])"
   ]
  },
  {
   "cell_type": "code",
   "execution_count": 58,
   "id": "537f6760",
   "metadata": {},
   "outputs": [
    {
     "name": "stdout",
     "output_type": "stream",
     "text": [
      "[[1 2]\n",
      " [6 7]]\n"
     ]
    }
   ],
   "source": [
    "print(a[:2, :2])"
   ]
  },
  {
   "cell_type": "code",
   "execution_count": null,
   "id": "f15093f4",
   "metadata": {},
   "outputs": [],
   "source": []
  }
 ],
 "metadata": {
  "kernelspec": {
   "display_name": "cosi123_team_project",
   "language": "python",
   "name": "cosi123_team_project"
  },
  "language_info": {
   "codemirror_mode": {
    "name": "ipython",
    "version": 3
   },
   "file_extension": ".py",
   "mimetype": "text/x-python",
   "name": "python",
   "nbconvert_exporter": "python",
   "pygments_lexer": "ipython3",
   "version": "3.8.12"
  }
 },
 "nbformat": 4,
 "nbformat_minor": 5
}
